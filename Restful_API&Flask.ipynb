{
  "nbformat": 4,
  "nbformat_minor": 0,
  "metadata": {
    "colab": {
      "provenance": []
    },
    "kernelspec": {
      "name": "python3",
      "display_name": "Python 3"
    },
    "language_info": {
      "name": "python"
    }
  },
  "cells": [
    {
      "cell_type": "markdown",
      "source": [
        "**1. What is a RESTful API?**\n",
        "  - REST (Representational State Transfer) is an architectural style that defines a set of constraints to be used for creating web services."
      ],
      "metadata": {
        "id": "4dYyr1Uq3jfX"
      }
    },
    {
      "cell_type": "markdown",
      "source": [
        "**2. Explain the concept of API specification?**\n",
        "  - An API specification is a detailed, structured document that describes how an API  works what it does, what data it expects, and what it returns\n",
        "  - Helps developers understand how to interact with the API.\n",
        "  - Serves as reference documentation for future maintenance."
      ],
      "metadata": {
        "id": "NUzTG9BV3kv0"
      }
    },
    {
      "cell_type": "markdown",
      "source": [
        "**3. What is Flask, and why is it popular for building APIs?**\n",
        "- Flask is a lightweight, flexible Python microframework for building web\n",
        "applications\n",
        "- it is popular becasue it's known for its simplicity, ease of use, and ability to be extended with various libraries and tools\n",
        "\n"
      ],
      "metadata": {
        "id": "885oKCJ33k3E"
      }
    },
    {
      "cell_type": "markdown",
      "source": [
        "**4. What is routing in Flask?**\n",
        "  - routing in flask is the process of mapping of url to a specific function in your application when a user visits a certain URL in their browser or calls it through an API request,\n",
        "  - it represent a path like /home, /about\n",
        "  - it define by a decorator @app.route()"
      ],
      "metadata": {
        "id": "E6qihtZuGFE_"
      }
    },
    {
      "cell_type": "markdown",
      "source": [
        "**5. How do you create a simple Flask application?**\n",
        "  - from flask import Flask\n",
        "  app = Flask(__name__) @app.route('/)\n",
        "  def Hello():\n",
        "  return \"hello world\"\n",
        "if __name__ == \"__main__\":\n",
        "app.run(debug=True)"
      ],
      "metadata": {
        "id": "_izVFNmWInda"
      }
    },
    {
      "cell_type": "markdown",
      "source": [
        "**6. What are HTTP methods used in RESTful APIs?**\n",
        "  - HTTP methods define what kind of action the client wants to perform on a resource (like a user, product, or post).\n",
        "  - they are CRUD means create, read, update, delete"
      ],
      "metadata": {
        "id": "VLAl-dSXN93R"
      }
    },
    {
      "cell_type": "markdown",
      "source": [
        "**7. What is the purpose of the @app.route() decorator in Flask?**\n",
        "  - @app.route() dacorator method is used to define url routes for  web application\n",
        "  - it tells flask which function should handle specific url path\n",
        "  - by default flask route is respond 'GET' request, but we can also uese anther methods like 'POST'"
      ],
      "metadata": {
        "id": "paDy2DazQlQK"
      }
    },
    {
      "cell_type": "markdown",
      "source": [
        "**8. What is the difference between GET and POST HTTP methods?**\n",
        "  - GET methods\n",
        "    - it is used for the read or retrive data from the server\n",
        "    - you can see the name in the url bar after submission\n",
        "  - post\n",
        "    - send data in request body not visible in url\n",
        "    - it used for submitting sensetive and large data  "
      ],
      "metadata": {
        "id": "K_nHTXLGDQXi"
      }
    },
    {
      "cell_type": "markdown",
      "source": [
        "**9. How do you handle errors in Flask APIs?**\n",
        "  - flask provide to handle error both globaly and locally,here we can see, it use assertion response status code == 200 pass the test case\n",
        "  - if the user is enter wrong data and missing value then asserion satus code == 400,\n",
        "  - if the user enter wrong url then assertion code == 404,\n",
        "  - if the user enter wrong method then assetion response code == 405\n",
        "  - return json response for API, not html"
      ],
      "metadata": {
        "id": "-qqgkwweG7bx"
      }
    },
    {
      "cell_type": "markdown",
      "source": [
        "**10. How do you connect Flask to a SQL database?**\n",
        "  - Install Flask-SQLAlchemy then\n",
        "  - tell Flask which database to use by settin(SQLALCHEMY_DATABASE_URI) for SQL lite 'sqlite:///mydatabase.db'\n",
        "  - define database model\n",
        "  - create the database table\n",
        "  - adding and query data"
      ],
      "metadata": {
        "id": "l7ve1jrqRBC-"
      }
    },
    {
      "cell_type": "markdown",
      "source": [
        "**11. What is the role of Flask-SQLAlchemy?**\n",
        "  - Flask-SQLAlchemy is an extension for flask that provides a simple and powerful way to interact with SQL databases using the SQLAlchemy ORM. Its first role is to bridge flask with SQL databases, allowing developers to manage database operations using Python objects instead of writing raw SQL queries.\n",
        "  - Flask-SQLAlchemy is also support multiple database engine like SQLite, MySQL, PostgreSQL, etc"
      ],
      "metadata": {
        "id": "NZQFXLXRS6Fv"
      }
    },
    {
      "cell_type": "markdown",
      "source": [
        "**12. What are Flask blueprints, and how are they useful?**\n",
        "  - Flask Blueprints are a way to organize and structure a flask application into modular, reusable components, scalibilty\n",
        "  - in bluprint split the code into smaller module to keep code organsied and grouping realated routes\n",
        "  - reusability means use code again in another multiple project\n",
        "  - each blue print has its own tempaltes, static files, route\n",
        "  - makes it easier to maintain large applications because all aplication component are packed and deployed as sing unit"
      ],
      "metadata": {
        "id": "0DWv-MH3T7e4"
      }
    },
    {
      "cell_type": "markdown",
      "source": [
        "**13. What is the purpose of Flask's request object?**\n",
        "   - Flask's request object is used to access all the data coming from the client (browser, mobile app, API call) in an HTTP request. it acts as an interface between your Flask application and the incoming HTTP request.\n",
        "   - it allows to check header like authorization, user agent\n",
        "   - access request data means get form data requeset.form  from json from request_get.jso()"
      ],
      "metadata": {
        "id": "5ac2hOctXZOE"
      }
    },
    {
      "cell_type": "markdown",
      "source": [
        "**14. How do you create a RESTful API endpoint using Flask?**\n",
        "  - firs import flask, request, jsonify\n",
        "  - define aroute @app.route('/end-point, methods=['GET'])\n",
        "  - use flask request object to access data\n",
        "  - return a json response using jsonify"
      ],
      "metadata": {
        "id": "XvCUB34J9w8b"
      }
    },
    {
      "cell_type": "markdown",
      "source": [
        "**15. What is the purpose of Flask's jsonify() function?**\n",
        "  - it convert the python object to json, it take dictionary, list data and convert them into a json string\n",
        "  - it automaticaly set content readable type easy to understand about the data\n",
        "  - useful for REST APIs where you want to send structured JSON responses for every request"
      ],
      "metadata": {
        "id": "i_eW7RnT_Vkj"
      }
    },
    {
      "cell_type": "markdown",
      "source": [
        "**16. Explain Flask’s url_for() function.**\n",
        "  - Flask's url_for() function is used to dynamically generate URLs for routes in application, instead of hardcoding them.\n",
        "  - This is helpful because if you  change a route URL later, you do nott have to manually update every place, where you use url_for() will automatically generate the correct url"
      ],
      "metadata": {
        "id": "LhwZaf-JBfMX"
      }
    },
    {
      "cell_type": "markdown",
      "source": [
        "**17. How does Flask handle static files (CSS, JavaScript, etc.)?**\n",
        " - flask has built in support for serve static file like css, javascript, image.\n",
        " - flask automatically map the /static/ url to file in the static/ folder you don't  need to manually write routes them\n",
        " - You should use url_for('satatic', filename='filename') to generate links to static files dynamically.this avoids hardcoding paths"
      ],
      "metadata": {
        "id": "PO7D4qOHDQ9S"
      }
    },
    {
      "cell_type": "markdown",
      "source": [
        "**18. What is an API specification, and how does it help in building a Flask API?**\n",
        "  - API Specification\n",
        "    - an API specification is a structured document that define endpoint route where url is used like /user, /home\n",
        "    - at end point what methods is support GET, POST, PUT, DELETE\n",
        "  - how it help in building flask API\n",
        "    - you have idea what routes, data, and responses to implement before coding\n",
        "    - it make easier test, tester will know exactly what input/output to expect\n",
        "    - for autoamation swagger UI can automatically generate interactive API docs from it"
      ],
      "metadata": {
        "id": "3FPwnAvAGGQY"
      }
    },
    {
      "cell_type": "markdown",
      "source": [
        "**19. What are HTTP status codes, and why are they important in a Flask API?**\n",
        "  - in a Flask API, using the correct status codes is important because they let API consumers server understand the result of their request without guessing.\n",
        "  - it tells to the client what happens with the request is it successfull, internal error, and then take further action\n",
        "  - HTTP code range if 200 means success response, if 404 means bad request, and 500 means server error"
      ],
      "metadata": {
        "id": "bo_Vp09YJ-ua"
      }
    },
    {
      "cell_type": "markdown",
      "source": [
        "**20. How do you handle POST requests in Flask?**\n",
        "   - import flask, request it access the data is sent by the client\n",
        "   - creat a route with methods=['POST'], by default it is GET we have to change it\n",
        "   - extract data from request.get_json() for json payload, request.file for uploading file"
      ],
      "metadata": {
        "id": "0oeQlGU4QkyP"
      }
    },
    {
      "cell_type": "markdown",
      "source": [
        "**21. How would you secure a Flask API?**\n",
        "  - always serve API over HTTPS(hpyer text transfer protocol secure) and encrypt data in transit, preventing the-middle attacks.\n",
        "  - json web token used for authentication login system\n",
        "  - it handle error securly by not exposing the internal code that in which part of code problem is, but is can handle by HTTP status code which show only 400 bad request, 401 unauthorized\n",
        "  - store API keys and database password secret in environment variable , use .env"
      ],
      "metadata": {
        "id": "Mb63SVvpS1Mb"
      }
    },
    {
      "cell_type": "markdown",
      "source": [
        "**22. What is the significance of the Flask-RESTful extension?**\n",
        "  - Flask-RESTful is a popular extenstion for flask to make it easier to buil RESTful API, the significane of the RESTful it provide structured way to build API define without flask API manually you don't do  routes, handle request parsing, and build responses.\n",
        "  - flask API has built-in error handling you can define custom error messages for missing data, bad requests, or unauthorized access\n",
        "  - it returning JSON responses by default, makes APIs more predictable for clients consuming them.\n",
        "  - easy routing means instead of using @app.route() for each end point just use api.add_resource() and map into url"
      ],
      "metadata": {
        "id": "_hUlZVFKqd2P"
      }
    },
    {
      "cell_type": "markdown",
      "source": [
        "**23. What is the role of Flask’s session object?**\n",
        "  - Flas's session object plays a role in managing user-specific data across multiple requests — basically, it allows your web app to remember information about a user as they navigate through different pages.\n",
        "  - normally, HTTP forgets everything after each request But Flask's session bject lets you temporarily remember user data (like username, cart items, or login state) across multiple requests, this works without saving it in a database — instead, Flask stores it in a secure cookie\n",
        "  - flask use secure cookie by default to store session data\n",
        "  - each session is cryptographically signed with a secret key(app.secret_key), so it can not chage, modified or altered in unauthorized way"
      ],
      "metadata": {
        "id": "D1R6DzZqu-px"
      }
    },
    {
      "cell_type": "code",
      "source": [
        "# 1. How do you create a basic Flask application?\n",
        "from flask import Flask\n",
        "\n",
        "app = Flask(__name__)\n",
        "\n",
        "@app.route('/')\n",
        "def home():\n",
        "    return \"Hello world! \"\n",
        "\n",
        "if __name__ == '__main__':\n",
        "    app.run(debug=True)\n"
      ],
      "metadata": {
        "colab": {
          "base_uri": "https://localhost:8080/"
        },
        "id": "8BNQPaalWI5J",
        "outputId": "29771dd0-adf7-470a-fa15-7eade24dbdf8"
      },
      "execution_count": null,
      "outputs": [
        {
          "output_type": "stream",
          "name": "stdout",
          "text": [
            " * Serving Flask app '__main__'\n",
            " * Debug mode: on\n"
          ]
        },
        {
          "output_type": "stream",
          "name": "stderr",
          "text": [
            "INFO:werkzeug:\u001b[31m\u001b[1mWARNING: This is a development server. Do not use it in a production deployment. Use a production WSGI server instead.\u001b[0m\n",
            " * Running on http://127.0.0.1:5000\n",
            "INFO:werkzeug:\u001b[33mPress CTRL+C to quit\u001b[0m\n",
            "INFO:werkzeug: * Restarting with watchdog (inotify)\n"
          ]
        }
      ]
    },
    {
      "cell_type": "code",
      "source": [
        "# 2. How do you serve static files like images or CSS in Flask?\n",
        "\n",
        "!pip install flask-ngrok\n",
        "\n",
        "\n",
        "from flask import Flask, render_template_string, url_for\n",
        "from flask_ngrok import run_with_ngrok\n",
        "\n",
        "app = Flask(__name__)\n",
        "run_with_ngrok(app)  # Start ngrok when app runs\n",
        "\n",
        "# Sample CSS and HTML using render_template_string\n",
        "html_content = \"\"\"\n",
        "<!DOCTYPE html>\n",
        "<html>\n",
        "<head>\n",
        "    <title>Flask Static Example in Colab</title>\n",
        "    <style>\n",
        "        body { font-family: Arial; background-color: #f0f0f0; text-align: center; }\n",
        "        h1 { color: #333; }\n",
        "        img { width: 200px; margin-top: 20px; }\n",
        "    </style>\n",
        "</head>\n",
        "<body>\n",
        "    <h1>Welcome to Flask in Colab!</h1>\n",
        "    <img src=\"https://via.placeholder.com/200\" alt=\"Example Image\">\n",
        "</body>\n",
        "</html>\n",
        "\"\"\"\n",
        "\n",
        "# Route to display HTML\n",
        "@app.route('/')\n",
        "def home():\n",
        "    return render_template_string(html_content)\n",
        "\n",
        "# Run the app\n",
        "app.run()\n"
      ],
      "metadata": {
        "id": "VIIuKZvKLH3r",
        "colab": {
          "base_uri": "https://localhost:8080/"
        },
        "outputId": "262f1587-04e5-4bd3-a5b5-cab542559b3f"
      },
      "execution_count": null,
      "outputs": [
        {
          "output_type": "stream",
          "name": "stdout",
          "text": [
            "Requirement already satisfied: flask-ngrok in /usr/local/lib/python3.12/dist-packages (0.0.25)\n",
            "Requirement already satisfied: Flask>=0.8 in /usr/local/lib/python3.12/dist-packages (from flask-ngrok) (3.1.2)\n",
            "Requirement already satisfied: requests in /usr/local/lib/python3.12/dist-packages (from flask-ngrok) (2.32.4)\n",
            "Requirement already satisfied: blinker>=1.9.0 in /usr/local/lib/python3.12/dist-packages (from Flask>=0.8->flask-ngrok) (1.9.0)\n",
            "Requirement already satisfied: click>=8.1.3 in /usr/local/lib/python3.12/dist-packages (from Flask>=0.8->flask-ngrok) (8.2.1)\n",
            "Requirement already satisfied: itsdangerous>=2.2.0 in /usr/local/lib/python3.12/dist-packages (from Flask>=0.8->flask-ngrok) (2.2.0)\n",
            "Requirement already satisfied: jinja2>=3.1.2 in /usr/local/lib/python3.12/dist-packages (from Flask>=0.8->flask-ngrok) (3.1.6)\n",
            "Requirement already satisfied: markupsafe>=2.1.1 in /usr/local/lib/python3.12/dist-packages (from Flask>=0.8->flask-ngrok) (3.0.2)\n",
            "Requirement already satisfied: werkzeug>=3.1.0 in /usr/local/lib/python3.12/dist-packages (from Flask>=0.8->flask-ngrok) (3.1.3)\n",
            "Requirement already satisfied: charset_normalizer<4,>=2 in /usr/local/lib/python3.12/dist-packages (from requests->flask-ngrok) (3.4.3)\n",
            "Requirement already satisfied: idna<4,>=2.5 in /usr/local/lib/python3.12/dist-packages (from requests->flask-ngrok) (3.10)\n",
            "Requirement already satisfied: urllib3<3,>=1.21.1 in /usr/local/lib/python3.12/dist-packages (from requests->flask-ngrok) (2.5.0)\n",
            "Requirement already satisfied: certifi>=2017.4.17 in /usr/local/lib/python3.12/dist-packages (from requests->flask-ngrok) (2025.8.3)\n",
            " * Serving Flask app '__main__'\n",
            " * Debug mode: off\n"
          ]
        },
        {
          "output_type": "stream",
          "name": "stderr",
          "text": [
            "INFO:werkzeug:\u001b[31m\u001b[1mWARNING: This is a development server. Do not use it in a production deployment. Use a production WSGI server instead.\u001b[0m\n",
            " * Running on http://127.0.0.1:5000\n",
            "INFO:werkzeug:\u001b[33mPress CTRL+C to quit\u001b[0m\n",
            "Exception in thread Thread-19:\n",
            "Traceback (most recent call last):\n",
            "  File \"/usr/local/lib/python3.12/dist-packages/urllib3/connection.py\", line 198, in _new_conn\n",
            "    sock = connection.create_connection(\n",
            "           ^^^^^^^^^^^^^^^^^^^^^^^^^^^^^\n",
            "  File \"/usr/local/lib/python3.12/dist-packages/urllib3/util/connection.py\", line 85, in create_connection\n",
            "    raise err\n",
            "  File \"/usr/local/lib/python3.12/dist-packages/urllib3/util/connection.py\", line 73, in create_connection\n",
            "    sock.connect(sa)\n",
            "ConnectionRefusedError: [Errno 111] Connection refused\n",
            "\n",
            "The above exception was the direct cause of the following exception:\n",
            "\n",
            "Traceback (most recent call last):\n",
            "  File \"/usr/local/lib/python3.12/dist-packages/urllib3/connectionpool.py\", line 787, in urlopen\n",
            "    response = self._make_request(\n",
            "               ^^^^^^^^^^^^^^^^^^^\n",
            "  File \"/usr/local/lib/python3.12/dist-packages/urllib3/connectionpool.py\", line 493, in _make_request\n",
            "    conn.request(\n",
            "  File \"/usr/local/lib/python3.12/dist-packages/urllib3/connection.py\", line 494, in request\n",
            "    self.endheaders()\n",
            "  File \"/usr/lib/python3.12/http/client.py\", line 1333, in endheaders\n",
            "    self._send_output(message_body, encode_chunked=encode_chunked)\n",
            "  File \"/usr/lib/python3.12/http/client.py\", line 1093, in _send_output\n",
            "    self.send(msg)\n",
            "  File \"/usr/lib/python3.12/http/client.py\", line 1037, in send\n",
            "    self.connect()\n",
            "  File \"/usr/local/lib/python3.12/dist-packages/urllib3/connection.py\", line 325, in connect\n",
            "    self.sock = self._new_conn()\n",
            "                ^^^^^^^^^^^^^^^^\n",
            "  File \"/usr/local/lib/python3.12/dist-packages/urllib3/connection.py\", line 213, in _new_conn\n",
            "    raise NewConnectionError(\n",
            "urllib3.exceptions.NewConnectionError: <urllib3.connection.HTTPConnection object at 0x7c0ee2a1fa10>: Failed to establish a new connection: [Errno 111] Connection refused\n",
            "\n",
            "The above exception was the direct cause of the following exception:\n",
            "\n",
            "Traceback (most recent call last):\n",
            "  File \"/usr/local/lib/python3.12/dist-packages/requests/adapters.py\", line 667, in send\n",
            "    resp = conn.urlopen(\n",
            "           ^^^^^^^^^^^^^\n",
            "  File \"/usr/local/lib/python3.12/dist-packages/urllib3/connectionpool.py\", line 841, in urlopen\n",
            "    retries = retries.increment(\n",
            "              ^^^^^^^^^^^^^^^^^^\n",
            "  File \"/usr/local/lib/python3.12/dist-packages/urllib3/util/retry.py\", line 519, in increment\n",
            "    raise MaxRetryError(_pool, url, reason) from reason  # type: ignore[arg-type]\n",
            "    ^^^^^^^^^^^^^^^^^^^^^^^^^^^^^^^^^^^^^^^^^^^^^^^^^^^\n",
            "urllib3.exceptions.MaxRetryError: HTTPConnectionPool(host='localhost', port=4040): Max retries exceeded with url: /api/tunnels (Caused by NewConnectionError('<urllib3.connection.HTTPConnection object at 0x7c0ee2a1fa10>: Failed to establish a new connection: [Errno 111] Connection refused'))\n",
            "\n",
            "During handling of the above exception, another exception occurred:\n",
            "\n",
            "Traceback (most recent call last):\n",
            "  File \"/usr/lib/python3.12/threading.py\", line 1075, in _bootstrap_inner\n",
            "    self.run()\n",
            "  File \"/usr/lib/python3.12/threading.py\", line 1433, in run\n",
            "    self.function(*self.args, **self.kwargs)\n",
            "  File \"/usr/local/lib/python3.12/dist-packages/flask_ngrok.py\", line 70, in start_ngrok\n",
            "    ngrok_address = _run_ngrok()\n",
            "                    ^^^^^^^^^^^^\n",
            "  File \"/usr/local/lib/python3.12/dist-packages/flask_ngrok.py\", line 35, in _run_ngrok\n",
            "    tunnel_url = requests.get(localhost_url).text  # Get the tunnel information\n",
            "                 ^^^^^^^^^^^^^^^^^^^^^^^^^^^\n",
            "  File \"/usr/local/lib/python3.12/dist-packages/requests/api.py\", line 73, in get\n",
            "    return request(\"get\", url, params=params, **kwargs)\n",
            "           ^^^^^^^^^^^^^^^^^^^^^^^^^^^^^^^^^^^^^^^^^^^^\n",
            "  File \"/usr/local/lib/python3.12/dist-packages/requests/api.py\", line 59, in request\n",
            "    return session.request(method=method, url=url, **kwargs)\n",
            "           ^^^^^^^^^^^^^^^^^^^^^^^^^^^^^^^^^^^^^^^^^^^^^^^^^\n",
            "  File \"/usr/local/lib/python3.12/dist-packages/requests/sessions.py\", line 589, in request\n",
            "    resp = self.send(prep, **send_kwargs)\n",
            "           ^^^^^^^^^^^^^^^^^^^^^^^^^^^^^^\n",
            "  File \"/usr/local/lib/python3.12/dist-packages/requests/sessions.py\", line 703, in send\n",
            "    r = adapter.send(request, **kwargs)\n",
            "        ^^^^^^^^^^^^^^^^^^^^^^^^^^^^^^^\n",
            "  File \"/usr/local/lib/python3.12/dist-packages/requests/adapters.py\", line 700, in send\n",
            "    raise ConnectionError(e, request=request)\n",
            "requests.exceptions.ConnectionError: HTTPConnectionPool(host='localhost', port=4040): Max retries exceeded with url: /api/tunnels (Caused by NewConnectionError('<urllib3.connection.HTTPConnection object at 0x7c0ee2a1fa10>: Failed to establish a new connection: [Errno 111] Connection refused'))\n"
          ]
        }
      ]
    },
    {
      "cell_type": "code",
      "source": [
        "# 3. How do you define different routes with different HTTP methods in Flask?\n",
        "from flask import Flask, request, jsonify\n",
        "\n",
        "app = Flask(__name__)\n",
        "\n",
        "# Route for GET request\n",
        "@app.route('/hello', methods=['GET'])\n",
        "def hello():\n",
        "    return \"Hello, GET request!\"\n",
        "\n",
        "# Route for POST request\n",
        "@app.route('/submit', methods=['POST'])\n",
        "def submit():\n",
        "    data = request.get_json()\n",
        "    name = data.get(\"name\", \"Guest\")\n",
        "    return jsonify({\"message\": f\"Hello, {name}!\"})\n",
        "\n",
        "# Route for both GET and POST\n",
        "@app.route('/greet', methods=['GET', 'POST'])\n",
        "def greet():\n",
        "    if request.method == 'POST':\n",
        "        data = request.get_json()\n",
        "        name = data.get(\"name\", \"Guest\")\n",
        "        return jsonify({\"message\": f\"Greetings, {name}!\"})\n",
        "    else:\n",
        "        return \"Send a POST request with your name.\"\n",
        "\n",
        "if __name__ == '__main__':\n",
        "    app.run(debug=True)\n"
      ],
      "metadata": {
        "colab": {
          "base_uri": "https://localhost:8080/"
        },
        "id": "Pi2DIiJ_roQp",
        "outputId": "78d7737a-6ce4-49a4-b597-1786e419868e"
      },
      "execution_count": 16,
      "outputs": [
        {
          "output_type": "stream",
          "name": "stdout",
          "text": [
            " * Serving Flask app '__main__'\n",
            " * Debug mode: on\n"
          ]
        },
        {
          "output_type": "stream",
          "name": "stderr",
          "text": [
            "INFO:werkzeug:\u001b[31m\u001b[1mWARNING: This is a development server. Do not use it in a production deployment. Use a production WSGI server instead.\u001b[0m\n",
            " * Running on http://127.0.0.1:5000\n",
            "INFO:werkzeug:\u001b[33mPress CTRL+C to quit\u001b[0m\n",
            "INFO:werkzeug: * Restarting with watchdog (inotify)\n"
          ]
        }
      ]
    },
    {
      "cell_type": "code",
      "source": [
        "# 4. How do you render HTML templates in Flask?\n",
        "from flask import Flask,render_template_string\n",
        "from flask_ngrok import run_with_ngrok\n",
        "\n",
        "\n",
        "app = Flask(__name__)\n",
        "run_with_ngrok(app)\n",
        "\n",
        "\n",
        "@app.route('/hello')\n",
        "def Home():\n",
        "  html_code = \"\"\"\n",
        "  <!DOCTYPE html>\n",
        "  <html>\n",
        "  <head>\n",
        "      <title>My First Flask</title>\n",
        "  </head>\n",
        "  <body>\n",
        "      <h1>Hello, {{ name }}!</h1>\n",
        "      <p>Welcome to my first Flask project.</p>\n",
        "  </body>\n",
        "  </html>\n",
        "\n",
        "\"\"\"\n",
        "  return render_template_string('index.html',name='salauddin')\n",
        "\n",
        "if __name__ == \"__main__\":\n",
        "  app.run()"
      ],
      "metadata": {
        "id": "tlnealYT5Jyv"
      },
      "execution_count": null,
      "outputs": []
    },
    {
      "cell_type": "code",
      "source": [
        "# 5. How can you generate URLs for routes in Flask using url_for?\n",
        "from flask import Flask, url_for, redirect, render_template_string\n",
        "\n",
        "app = Flask(__name__)\n",
        "\n",
        "\n",
        "@app.route(\"/\")\n",
        "def home():\n",
        "    # Generate URLs for other routes\n",
        "    login_url = url_for(\"login\")\n",
        "    profile_url = url_for(\"profile\", username=\"Alex\")\n",
        "    return render_template_string(\"\"\"\n",
        "        <h2>Home Page</h2>\n",
        "        <ul>\n",
        "            <li><a href=\"{{ login_url }}\">Login</a></li>\n",
        "            <li><a href=\"{{ profile_url }}\">Profile of Alex</a></li>\n",
        "        </ul>\n",
        "    \"\"\", login_url=login_url, profile_url=profile_url)\n",
        "\n",
        "@app.route(\"/login\")\n",
        "def login():\n",
        "    return \"<h2>Login Page</h2><a href='/'>Back to Home</a>\"\n",
        "\n",
        "@app.route(\"/user/<username>\")\n",
        "def profile(username):\n",
        "    return f\"<h2>User Profile: {username}</h2><a href='/'>Back to Home</a>\"\n",
        "\n",
        "@app.route(\"/go-to-login\")\n",
        "def go_to_login():\n",
        "    # Redirect to login using url_for\n",
        "    return redirect(url_for(\"login\"))\n",
        "\n",
        "\n",
        "if __name__ == \"__main__\":\n",
        "    app.run(debug=True, port=5000)\n"
      ],
      "metadata": {
        "id": "VJIhDjvN1gHY",
        "colab": {
          "base_uri": "https://localhost:8080/"
        },
        "outputId": "6daeb068-2aba-48f0-baf0-a99f2bb9b37b"
      },
      "execution_count": 15,
      "outputs": [
        {
          "output_type": "stream",
          "name": "stdout",
          "text": [
            " * Serving Flask app '__main__'\n",
            " * Debug mode: on\n"
          ]
        },
        {
          "output_type": "stream",
          "name": "stderr",
          "text": [
            "INFO:werkzeug:\u001b[31m\u001b[1mWARNING: This is a development server. Do not use it in a production deployment. Use a production WSGI server instead.\u001b[0m\n",
            " * Running on http://127.0.0.1:5000\n",
            "INFO:werkzeug:\u001b[33mPress CTRL+C to quit\u001b[0m\n",
            "INFO:werkzeug: * Restarting with watchdog (inotify)\n"
          ]
        }
      ]
    },
    {
      "cell_type": "code",
      "source": [
        "# 6. How do you handle forms in Flask?\n",
        "from flask import Flask, request, render_template_string\n",
        "\n",
        "app = Flask(__name__)\n",
        "\n",
        "form_html = \"\"\"\n",
        "<!DOCTYPE html>\n",
        "<html>\n",
        "  <body>\n",
        "    <h2>User Form</h2>\n",
        "    <form method=\"POST\">\n",
        "      Name: <input type=\"text\" name=\"name\"><br><br>\n",
        "      Email: <input type=\"email\" name=\"email\"><br><br>\n",
        "      <input type=\"submit\" value=\"Submit\">\n",
        "    </form>\n",
        "  </body>\n",
        "</html>\n",
        "\"\"\"\n",
        "\n",
        "@app.route(\"/\", methods=[\"GET\", \"POST\"])\n",
        "def index():\n",
        "    if request.method == \"POST\":\n",
        "        # Get data from the form\n",
        "        name = request.form.get(\"name\")\n",
        "        email = request.form.get(\"email\")\n",
        "        return f\"<h3>Hello {name}, we received your email: {email}</h3>\"\n",
        "\n",
        "    # Show the form if it's a GET request\n",
        "    return render_template_string(form_html)\n",
        "\n",
        "if __name__ == \"__main__\":\n",
        "    app.run(debug=True)\n"
      ],
      "metadata": {
        "id": "clpiXfFa9ApJ",
        "colab": {
          "base_uri": "https://localhost:8080/"
        },
        "outputId": "be511a9e-523d-49b7-b956-5e70d330bf72"
      },
      "execution_count": 1,
      "outputs": [
        {
          "output_type": "stream",
          "name": "stdout",
          "text": [
            " * Serving Flask app '__main__'\n",
            " * Debug mode: on\n"
          ]
        },
        {
          "output_type": "stream",
          "name": "stderr",
          "text": [
            "INFO:werkzeug:\u001b[31m\u001b[1mWARNING: This is a development server. Do not use it in a production deployment. Use a production WSGI server instead.\u001b[0m\n",
            " * Running on http://127.0.0.1:5000\n",
            "INFO:werkzeug:\u001b[33mPress CTRL+C to quit\u001b[0m\n",
            "INFO:werkzeug: * Restarting with watchdog (inotify)\n"
          ]
        }
      ]
    },
    {
      "cell_type": "code",
      "source": [
        "# 7. How can you validate form data in Flask?from flask import Flask, request, render_template_string\n",
        "\n",
        "from flask import Flask, request, render_template_string\n",
        "\n",
        "app = Flask(__name__)\n",
        "\n",
        "form_html = \"\"\"\n",
        "<!DOCTYPE html>\n",
        "<html>\n",
        "  <body>\n",
        "    <h2>User Form</h2>\n",
        "    <form method=\"POST\">\n",
        "      Name: <input type=\"text\" name=\"name\"><br><br>\n",
        "      Email: <input type=\"email\" name=\"email\"><br><br>\n",
        "      <input type=\"submit\" value=\"Submit\">\n",
        "    </form>\n",
        "  </body>\n",
        "</html>\n",
        "\"\"\"\n",
        "\n",
        "@app.route(\"/\", methods=[\"GET\", \"POST\"])\n",
        "def index():\n",
        "    if request.method == \"POST\":\n",
        "        name = request.form.get(\"name\")\n",
        "        email = request.form.get(\"email\")\n",
        "\n",
        "        # Manual validation\n",
        "        if not name or not email:\n",
        "            return \"<h3>Error: Name and Email are required!</h3>\" + form_html\n",
        "\n",
        "        return f\"<h3>Hello {name}, we received your email: {email}</h3>\"\n",
        "\n",
        "    return render_template_string(form_html)\n",
        "\n",
        "if __name__ == \"__main__\":\n",
        "    app.run(debug=True)\n"
      ],
      "metadata": {
        "colab": {
          "base_uri": "https://localhost:8080/"
        },
        "id": "jretL0e2-Mjx",
        "outputId": "296c6215-1f19-4396-ea49-251349deeb4c"
      },
      "execution_count": 4,
      "outputs": [
        {
          "output_type": "stream",
          "name": "stdout",
          "text": [
            " * Serving Flask app '__main__'\n",
            " * Debug mode: on\n"
          ]
        },
        {
          "output_type": "stream",
          "name": "stderr",
          "text": [
            "INFO:werkzeug:\u001b[31m\u001b[1mWARNING: This is a development server. Do not use it in a production deployment. Use a production WSGI server instead.\u001b[0m\n",
            " * Running on http://127.0.0.1:5000\n",
            "INFO:werkzeug:\u001b[33mPress CTRL+C to quit\u001b[0m\n",
            "INFO:werkzeug: * Restarting with watchdog (inotify)\n"
          ]
        }
      ]
    },
    {
      "cell_type": "code",
      "source": [
        "# 8. How do you manage sessions in Flask?\n",
        "from flask import Flask, session, redirect, url_for, request, render_template_string\n",
        "\n",
        "app = Flask(__name__)\n",
        "app.secret_key = \"supersecretkey\"\n",
        "\n",
        "\n",
        "login_form = \"\"\"\n",
        "<h2>Login</h2>\n",
        "<form method=\"POST\">\n",
        "  Username: <input type=\"text\" name=\"username\"><br><br>\n",
        "  <input type=\"submit\" value=\"Login\">\n",
        "</form>\n",
        "\"\"\"\n",
        "\n",
        "@app.route(\"/\", methods=[\"GET\", \"POST\"])\n",
        "def login():\n",
        "    if request.method == \"POST\":\n",
        "        username = request.form.get(\"username\")\n",
        "        if username:\n",
        "            session[\"username\"] = username  # Store in session\n",
        "            return redirect(url_for(\"dashboard\"))\n",
        "    return render_template_string(login_form)\n",
        "\n",
        "@app.route(\"/dashboard\")\n",
        "def dashboard():\n",
        "\n",
        "    if \"username\" in session:\n",
        "        return f\"<h2>Welcome, {session['username']}!</h2><a href='/logout'>Logout</a>\"\n",
        "    return redirect(url_for(\"login\"))\n",
        "\n",
        "@app.route(\"/logout\")\n",
        "def logout():\n",
        "\n",
        "    session.pop(\"username\", None)\n",
        "    return \"<h2>You have been logged out.</h2><a href='/'>Login again</a>\"\n",
        "\n",
        "if __name__ == \"__main__\":\n",
        "    app.run(debug=True)\n"
      ],
      "metadata": {
        "colab": {
          "base_uri": "https://localhost:8080/"
        },
        "id": "TPsnkf71_CxK",
        "outputId": "4f895be3-f4e6-40d2-b231-f280c5f05f52"
      },
      "execution_count": 6,
      "outputs": [
        {
          "output_type": "stream",
          "name": "stdout",
          "text": [
            " * Serving Flask app '__main__'\n",
            " * Debug mode: on\n"
          ]
        },
        {
          "output_type": "stream",
          "name": "stderr",
          "text": [
            "INFO:werkzeug:\u001b[31m\u001b[1mWARNING: This is a development server. Do not use it in a production deployment. Use a production WSGI server instead.\u001b[0m\n",
            " * Running on http://127.0.0.1:5000\n",
            "INFO:werkzeug:\u001b[33mPress CTRL+C to quit\u001b[0m\n",
            "INFO:werkzeug: * Restarting with watchdog (inotify)\n"
          ]
        }
      ]
    },
    {
      "cell_type": "code",
      "source": [
        "# 9. How do you redirect to a different route in Flask?\n",
        "from flask import Flask, request, redirect, url_for, render_template_string\n",
        "\n",
        "app = Flask(__name__)\n",
        "\n",
        "form_html = \"\"\"\n",
        "<form method=\"POST\">\n",
        "  Name: <input type=\"text\" name=\"name\">\n",
        "  <input type=\"submit\" value=\"Submit\">\n",
        "</form>\n",
        "\"\"\"\n",
        "\n",
        "@app.route(\"/\", methods=[\"GET\", \"POST\"])\n",
        "def index():\n",
        "    if request.method == \"POST\":\n",
        "        name = request.form.get(\"name\")\n",
        "\n",
        "        return redirect(url_for(\"thank_you\", username=name))\n",
        "    return render_template_string(form_html)\n",
        "\n",
        "@app.route(\"/thank-you/<username>\")\n",
        "def thank_you(username):\n",
        "    return f\"Thanks, {username}! Your form was submitted successfully.\"\n",
        "\n",
        "if __name__ == \"__main__\":\n",
        "    app.run(debug=True)\n"
      ],
      "metadata": {
        "colab": {
          "base_uri": "https://localhost:8080/"
        },
        "id": "u68I8Fnc_cqO",
        "outputId": "e4cccfc8-9c31-41c4-9f50-22c2b10f938c"
      },
      "execution_count": 7,
      "outputs": [
        {
          "output_type": "stream",
          "name": "stdout",
          "text": [
            " * Serving Flask app '__main__'\n",
            " * Debug mode: on\n"
          ]
        },
        {
          "output_type": "stream",
          "name": "stderr",
          "text": [
            "INFO:werkzeug:\u001b[31m\u001b[1mWARNING: This is a development server. Do not use it in a production deployment. Use a production WSGI server instead.\u001b[0m\n",
            " * Running on http://127.0.0.1:5000\n",
            "INFO:werkzeug:\u001b[33mPress CTRL+C to quit\u001b[0m\n",
            "INFO:werkzeug: * Restarting with watchdog (inotify)\n"
          ]
        }
      ]
    },
    {
      "cell_type": "code",
      "source": [
        "# 10. How do you handle errors in Flask (e.g., 404)?\n",
        "from flask import Flask, render_template_string\n",
        "\n",
        "app = Flask(__name__)\n",
        "\n",
        "@app.route(\"/\")\n",
        "def home():\n",
        "    return \"Welcome to the home page!\"\n",
        "\n",
        "\n",
        "@app.errorhandler(404)\n",
        "def page_not_found(e):\n",
        "    return render_template_string(\"<h1>404 Error</h1><p>Page not found!</p>\"), 404\n",
        "\n",
        "\n",
        "@app.errorhandler(500)\n",
        "def internal_error(e):\n",
        "    return render_template_string(\"<h1>500 Error</h1><p>Something went wrong!</p>\"), 500\n",
        "\n",
        "if __name__ == \"__main__\":\n",
        "    app.run(debug=True)\n"
      ],
      "metadata": {
        "colab": {
          "base_uri": "https://localhost:8080/"
        },
        "id": "x9lNWJ_1BHM7",
        "outputId": "0ffb45f9-69b1-4b10-e27e-94f9b8807c9b"
      },
      "execution_count": 8,
      "outputs": [
        {
          "output_type": "stream",
          "name": "stdout",
          "text": [
            " * Serving Flask app '__main__'\n",
            " * Debug mode: on\n"
          ]
        },
        {
          "output_type": "stream",
          "name": "stderr",
          "text": [
            "INFO:werkzeug:\u001b[31m\u001b[1mWARNING: This is a development server. Do not use it in a production deployment. Use a production WSGI server instead.\u001b[0m\n",
            " * Running on http://127.0.0.1:5000\n",
            "INFO:werkzeug:\u001b[33mPress CTRL+C to quit\u001b[0m\n",
            "INFO:werkzeug: * Restarting with watchdog (inotify)\n"
          ]
        }
      ]
    },
    {
      "cell_type": "code",
      "source": [
        "# 11. How do you structure a Flask app using Blueprints?\n",
        "from flask import Flask, Blueprint, render_template_string\n",
        "\n",
        "auth_bp = Blueprint('auth', __name__, url_prefix='/auth')\n",
        "\n",
        "@auth_bp.route(\"/login\")\n",
        "def login():\n",
        "    return render_template_string(\"<h2>Login Page</h2><a href='/'>Back to Home</a>\")\n",
        "\n",
        "@auth_bp.route(\"/register\")\n",
        "def register():\n",
        "    return render_template_string(\"<h2>Register Page</h2><a href='/'>Back to Home</a>\")\n",
        "\n",
        "\n",
        "blog_bp = Blueprint('blog', __name__, url_prefix='/blog')\n",
        "\n",
        "@blog_bp.route(\"/\")\n",
        "def blog_home():\n",
        "    return render_template_string(\"<h2>Blog Home</h2><a href='/'>Back to Home</a>\")\n",
        "\n",
        "@blog_bp.route(\"/post/<int:id>\")\n",
        "def blog_post(id):\n",
        "    return render_template_string(f\"<h2>Viewing post {id}</h2><a href='/blog/'>Back to Blog Home</a>\")\n",
        "\n",
        "\n",
        "\n",
        "app = Flask(__name__)\n",
        "\n",
        "app.register_blueprint(auth_bp)\n",
        "app.register_blueprint(blog_bp)\n",
        "\n",
        "@app.route(\"/\")\n",
        "def index():\n",
        "    return \"\"\"\n",
        "    <h2>Main Home Page</h2>\n",
        "    <ul>\n",
        "        <li><a href='/auth/login'>Login</a></li>\n",
        "        <li><a href='/auth/register'>Register</a></li>\n",
        "        <li><a href='/blog/'>Blog Home</a></li>\n",
        "        <li><a href='/blog/post/1'>Blog Post 1</a></li>\n",
        "    </ul>\n",
        "    \"\"\"\n",
        "\n",
        "\n",
        "if __name__ == \"__main__\":\n",
        "    app.run(debug=True, port=5000)\n"
      ],
      "metadata": {
        "colab": {
          "base_uri": "https://localhost:8080/"
        },
        "id": "sh02TxhXB-MF",
        "outputId": "c95b388c-fa8b-486d-be1b-790554f4e610"
      },
      "execution_count": 9,
      "outputs": [
        {
          "output_type": "stream",
          "name": "stdout",
          "text": [
            " * Serving Flask app '__main__'\n",
            " * Debug mode: on\n"
          ]
        },
        {
          "output_type": "stream",
          "name": "stderr",
          "text": [
            "INFO:werkzeug:\u001b[31m\u001b[1mWARNING: This is a development server. Do not use it in a production deployment. Use a production WSGI server instead.\u001b[0m\n",
            " * Running on http://127.0.0.1:5000\n",
            "INFO:werkzeug:\u001b[33mPress CTRL+C to quit\u001b[0m\n",
            "INFO:werkzeug: * Restarting with watchdog (inotify)\n"
          ]
        }
      ]
    },
    {
      "cell_type": "code",
      "source": [
        "# 12. How do you define a custom Jinja filter in Flask?\n",
        "from flask import Flask, render_template_string\n",
        "from datetime import datetime\n",
        "\n",
        "app = Flask(__name__)\n",
        "\n",
        "\n",
        "\n",
        "\n",
        "@app.template_filter('uppercase')\n",
        "def uppercase_filter(s):\n",
        "    return s.upper()\n",
        "\n",
        "\n",
        "\n",
        "@app.template_filter('lowercase')\n",
        "def lowercase_filter(s):\n",
        "    return s.lower()\n",
        "\n",
        "\n",
        "\n",
        "@app.template_filter('format_date')\n",
        "def format_date(value, format=\"%d-%m-%Y\"):\n",
        "    return value.strftime(format)\n",
        "\n",
        "\n",
        "@app.route(\"/\")\n",
        "def index():\n",
        "    name = \"Flask User\"\n",
        "    now = datetime.now()\n",
        "    return render_template_string(\"\"\"\n",
        "        <h2>Custom Jinja Filters Demo</h2>\n",
        "        <p>Original Name: {{ name }}</p>\n",
        "        <p>Uppercase: {{ name|uppercase }}</p>\n",
        "        <p>Lowercase: {{ name|lowercase }}</p>\n",
        "        <p>Today: {{ now|format_date }}</p>\n",
        "    \"\"\", name=name, now=now)\n",
        "\n",
        "\n",
        "if __name__ == \"__main__\":\n",
        "    app.run(debug=True, port=5000)\n"
      ],
      "metadata": {
        "colab": {
          "base_uri": "https://localhost:8080/"
        },
        "id": "gu6ovSjnCX_I",
        "outputId": "1f347194-97b0-4735-b342-17c38eaf2e99"
      },
      "execution_count": 10,
      "outputs": [
        {
          "output_type": "stream",
          "name": "stdout",
          "text": [
            " * Serving Flask app '__main__'\n",
            " * Debug mode: on\n"
          ]
        },
        {
          "output_type": "stream",
          "name": "stderr",
          "text": [
            "INFO:werkzeug:\u001b[31m\u001b[1mWARNING: This is a development server. Do not use it in a production deployment. Use a production WSGI server instead.\u001b[0m\n",
            " * Running on http://127.0.0.1:5000\n",
            "INFO:werkzeug:\u001b[33mPress CTRL+C to quit\u001b[0m\n",
            "INFO:werkzeug: * Restarting with watchdog (inotify)\n"
          ]
        }
      ]
    },
    {
      "cell_type": "code",
      "source": [
        "# 13. How can you redirect with query parameters in Flask?\n",
        "from flask import Flask, redirect, url_for, request, render_template_string\n",
        "\n",
        "app = Flask(__name__)\n",
        "\n",
        "\n",
        "\n",
        "@app.route(\"/\")\n",
        "def home():\n",
        "    # Get query parameters\n",
        "    name = request.args.get(\"name\")\n",
        "    age = request.args.get(\"age\")\n",
        "\n",
        "    if name and age:\n",
        "        return f\"<h2>Welcome {name}, age {age}!</h2><a href='/'>Back</a>\"\n",
        "\n",
        "    return render_template_string(\"\"\"\n",
        "        <h2>Enter Your Details</h2>\n",
        "        <form method=\"POST\" action=\"/submit\">\n",
        "            Name: <input type=\"text\" name=\"name\"><br><br>\n",
        "            Age: <input type=\"number\" name=\"age\"><br><br>\n",
        "            <input type=\"submit\" value=\"Submit\">\n",
        "        </form>\n",
        "    \"\"\")\n",
        "\n",
        "\n",
        "@app.route(\"/submit\", methods=[\"POST\"])\n",
        "def submit():\n",
        "    name = request.form.get(\"name\")\n",
        "    age = request.form.get(\"age\")\n",
        "    # Redirect to home with query parameters\n",
        "    return redirect(url_for(\"home\", name=name, age=age))\n",
        "\n",
        "\n",
        "if __name__ == \"__main__\":\n",
        "    app.run(debug=True, port=5000)\n"
      ],
      "metadata": {
        "colab": {
          "base_uri": "https://localhost:8080/"
        },
        "id": "zr9SrJnuC_ky",
        "outputId": "612ff8aa-4328-41b9-b79f-73ede67efc28"
      },
      "execution_count": 11,
      "outputs": [
        {
          "output_type": "stream",
          "name": "stdout",
          "text": [
            " * Serving Flask app '__main__'\n",
            " * Debug mode: on\n"
          ]
        },
        {
          "output_type": "stream",
          "name": "stderr",
          "text": [
            "INFO:werkzeug:\u001b[31m\u001b[1mWARNING: This is a development server. Do not use it in a production deployment. Use a production WSGI server instead.\u001b[0m\n",
            " * Running on http://127.0.0.1:5000\n",
            "INFO:werkzeug:\u001b[33mPress CTRL+C to quit\u001b[0m\n",
            "INFO:werkzeug: * Restarting with watchdog (inotify)\n"
          ]
        }
      ]
    },
    {
      "cell_type": "code",
      "source": [
        "# 14. How do you return JSON responses in Flask?\n",
        "from flask import Flask, jsonify, request\n",
        "\n",
        "app = Flask(__name__)\n",
        "\n",
        "\n",
        "users = [\n",
        "    {\"id\": 1, \"name\": \"Alex\", \"email\": \"alex@example.com\"},\n",
        "    {\"id\": 2, \"name\": \"Maria\", \"email\": \"maria@example.com\"},\n",
        "]\n",
        "\n",
        "products = [\n",
        "    {\"id\": 101, \"name\": \"Laptop\", \"price\": 75000},\n",
        "    {\"id\": 102, \"name\": \"Phone\", \"price\": 25000},\n",
        "]\n",
        "\n",
        "\n",
        "\n",
        "# Get all users\n",
        "@app.route(\"/api/users/\")\n",
        "def get_users():\n",
        "    return jsonify(users)\n",
        "\n",
        "# Get user by ID\n",
        "@app.route(\"/api/users/<int:user_id>\")\n",
        "def get_user(user_id):\n",
        "    user = next((u for u in users if u[\"id\"] == user_id), None)\n",
        "    if user:\n",
        "        return jsonify(user)\n",
        "    return jsonify({\"error\": \"User not found\"}), 404\n",
        "\n",
        "# Get all products\n",
        "@app.route(\"/api/products\")\n",
        "def get_products():\n",
        "    return jsonify(products)\n",
        "\n",
        "# Add a new product (POST)\n",
        "@app.route(\"/api/products\", methods=[\"POST\"])\n",
        "def add_product():\n",
        "    data = request.get_json()\n",
        "    if not data or \"name\" not in data or \"price\" not in data:\n",
        "        return jsonify({\"error\": \"Invalid data\"}), 400\n",
        "    new_product = {\n",
        "        \"id\": max(p[\"id\"] for p in products) + 1,\n",
        "        \"name\": data[\"name\"],\n",
        "        \"price\": data[\"price\"]\n",
        "    }\n",
        "    products.append(new_product)\n",
        "    return jsonify(new_product), 201\n",
        "\n",
        "\n",
        "if __name__ == \"__main__\":\n",
        "    app.run(debug=True, port=5000)\n"
      ],
      "metadata": {
        "colab": {
          "base_uri": "https://localhost:8080/"
        },
        "id": "TwwMbs_XEId3",
        "outputId": "7ba2b993-a253-49e4-b8a3-dc8fd1f1f834"
      },
      "execution_count": 12,
      "outputs": [
        {
          "output_type": "stream",
          "name": "stdout",
          "text": [
            " * Serving Flask app '__main__'\n",
            " * Debug mode: on\n"
          ]
        },
        {
          "output_type": "stream",
          "name": "stderr",
          "text": [
            "INFO:werkzeug:\u001b[31m\u001b[1mWARNING: This is a development server. Do not use it in a production deployment. Use a production WSGI server instead.\u001b[0m\n",
            " * Running on http://127.0.0.1:5000\n",
            "INFO:werkzeug:\u001b[33mPress CTRL+C to quit\u001b[0m\n",
            "INFO:werkzeug: * Restarting with watchdog (inotify)\n"
          ]
        }
      ]
    },
    {
      "cell_type": "code",
      "source": [
        "# 15. How do you capture URL parameters in Flask?\n",
        "from flask import Flask, request, render_template_string\n",
        "\n",
        "app = Flask(__name__)\n",
        "\n",
        "\n",
        "@app.route(\"/user/<int:user_id>\")\n",
        "def user_profile(user_id):\n",
        "    return f\"<h2>User Profile</h2><p>User ID: {user_id}</p>\"\n",
        "\n",
        "@app.route(\"/post/<int:post_id>/comment/<int:comment_id>\")\n",
        "def post_comment(post_id, comment_id):\n",
        "    return f\"<h2>Post {post_id} - Comment {comment_id}</h2>\"\n",
        "\n",
        "\n",
        "@app.route(\"/search\")\n",
        "def search():\n",
        "    name = request.args.get(\"name\")\n",
        "    category = request.args.get(\"category\")\n",
        "    return f\"<h2>Search Results</h2><p>Name: {name}, Category: {category}</p>\"\n",
        "\n",
        "\n",
        "@app.route(\"/form\", methods=[\"GET\", \"POST\"])\n",
        "def form_example():\n",
        "    if request.method == \"POST\":\n",
        "        name = request.form.get(\"name\")\n",
        "        return f\"<h2>Hello {name}!</h2>\"\n",
        "\n",
        "    return render_template_string(\"\"\"\n",
        "        <form method=\"POST\">\n",
        "            Name: <input type=\"text\" name=\"name\">\n",
        "            <input type=\"submit\" value=\"Submit\">\n",
        "        </form>\n",
        "    \"\"\")\n",
        "\n",
        "\n",
        "\n",
        "if __name__ == \"__main__\":\n",
        "    app.run(debug=True, port=5000)\n"
      ],
      "metadata": {
        "colab": {
          "base_uri": "https://localhost:8080/"
        },
        "id": "ylZttPCYF_Li",
        "outputId": "e0d9c5c0-2e74-4471-addd-6e4e8f733301"
      },
      "execution_count": 13,
      "outputs": [
        {
          "output_type": "stream",
          "name": "stdout",
          "text": [
            " * Serving Flask app '__main__'\n",
            " * Debug mode: on\n"
          ]
        },
        {
          "output_type": "stream",
          "name": "stderr",
          "text": [
            "INFO:werkzeug:\u001b[31m\u001b[1mWARNING: This is a development server. Do not use it in a production deployment. Use a production WSGI server instead.\u001b[0m\n",
            " * Running on http://127.0.0.1:5000\n",
            "INFO:werkzeug:\u001b[33mPress CTRL+C to quit\u001b[0m\n",
            "INFO:werkzeug: * Restarting with watchdog (inotify)\n"
          ]
        }
      ]
    }
  ]
}